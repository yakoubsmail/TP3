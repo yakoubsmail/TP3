{
 "cells": [
  {
   "cell_type": "code",
   "execution_count": null,
   "id": "6083a9fb-85c0-48bd-b1bd-c0caca29c00f",
   "metadata": {},
   "outputs": [],
   "source": [
    "1 Un service web est un protocole dinterface informatique de la famille des technologies web permettant la communication et léchange de données entre applications et systèmes hétérogènes dans des environnements distribués\n",
    "\n",
    "2 Une API, ou interface de programmation dapplication est un ensemble de définitions et de protocoles qui facilite la création et lintégration de logiciels dapplications.\n",
    "\n",
    "3 FastAPI est un framework Web pour développer des API RESTful en Python FastAPI est basé sur Pydantic et des conseils detype pour valider, sérialiser et désérialiser les données"
   ]
  }
 ],
 "metadata": {
  "kernelspec": {
   "display_name": "Python 3 (ipykernel)",
   "language": "python",
   "name": "python3"
  },
  "language_info": {
   "codemirror_mode": {
    "name": "ipython",
    "version": 3
   },
   "file_extension": ".py",
   "mimetype": "text/x-python",
   "name": "python",
   "nbconvert_exporter": "python",
   "pygments_lexer": "ipython3",
   "version": "3.10.3"
  }
 },
 "nbformat": 4,
 "nbformat_minor": 5
}
